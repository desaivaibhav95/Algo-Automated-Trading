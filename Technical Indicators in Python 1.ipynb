{
 "cells": [
  {
   "cell_type": "code",
   "execution_count": 1,
   "id": "eb865914-d732-49a7-9f24-8c21b452c4b6",
   "metadata": {},
   "outputs": [],
   "source": [
    "import pandas as pd\n",
    "import numpy as np\n",
    "import yfinance as yf\n",
    "\n",
    "import datetime as dt\n",
    "from pandas_datareader import data as pdr\n",
    "yf.pdr_override()\n",
    "\n",
    "pd.set_option('display.max_rows',None)"
   ]
  },
  {
   "cell_type": "markdown",
   "id": "761c2886-fc5c-4d33-b11c-194150df35d5",
   "metadata": {},
   "source": [
    "This notebook calculates various technical indicators only using pandas and without using any technical analysis/indicator library.\n",
    "\n",
    "In this notebook we calculate \n",
    " - Moving Averages\n",
    " - Bollinger Bands\n",
    " - Relative Strength Index (RSI)\n",
    " - Moving Average Convergence Divergence (MACD)\n",
    " - Supertrend"
   ]
  },
  {
   "cell_type": "markdown",
   "id": "f193d249-40c6-44e6-950b-e1264b06fc49",
   "metadata": {},
   "source": [
    "## Moving Averages"
   ]
  },
  {
   "cell_type": "code",
   "execution_count": 2,
   "id": "441780cd-114d-4097-b06e-d452afcd3fa9",
   "metadata": {},
   "outputs": [
    {
     "name": "stdin",
     "output_type": "stream",
     "text": [
      "Enter Stock Ticker :  RELIANCE.NS\n"
     ]
    },
    {
     "name": "stdout",
     "output_type": "stream",
     "text": [
      "RELIANCE.NS\n",
      "[*********************100%***********************]  1 of 1 completed\n"
     ]
    }
   ],
   "source": [
    "ticker = input(\"Enter Stock Ticker : \")\n",
    "print(ticker)\n",
    "\n",
    "startyear=2012\n",
    "startmonth=1\n",
    "startday=1\n",
    "\n",
    "start=dt.datetime(startyear,startmonth,startday)\n",
    "\n",
    "end=dt.datetime.now()\n",
    "\n",
    "stock_ma=pdr.get_data_yahoo(ticker,start,end)"
   ]
  },
  {
   "cell_type": "code",
   "execution_count": 3,
   "id": "09f89040-ce72-4b8b-8edb-057896c277b7",
   "metadata": {},
   "outputs": [],
   "source": [
    "# Simple Moving Average\n",
    "stock_ma['SMA_5'] = stock_ma['Close'].rolling(5).mean()\n",
    "stock_ma['SMA_10'] = stock_ma['Close'].rolling(10).mean()"
   ]
  },
  {
   "cell_type": "code",
   "execution_count": 4,
   "id": "51b148d8-0c94-4791-9d6a-be45eeb7a5bd",
   "metadata": {},
   "outputs": [],
   "source": [
    "# Exponential Moving Average\n",
    "stock_ma['EMA_5'] = stock_ma['Close'].ewm(span = 5, min_periods = 4).mean()\n",
    "stock_ma['EMA_10'] = stock_ma['Close'].ewm(span = 10, min_periods = 9).mean()"
   ]
  },
  {
   "cell_type": "markdown",
   "id": "00f59074-a4ba-4dc0-9155-aab607af0c14",
   "metadata": {},
   "source": [
    "## Bollinger Bands"
   ]
  },
  {
   "cell_type": "code",
   "execution_count": 5,
   "id": "e7895846-fad8-470a-a30b-a4c4210ff851",
   "metadata": {},
   "outputs": [
    {
     "name": "stdout",
     "output_type": "stream",
     "text": [
      "RELIANCE.NS\n",
      "[*********************100%***********************]  1 of 1 completed\n"
     ]
    }
   ],
   "source": [
    "#ticker = input(\"Enter Stock Ticker : \")\n",
    "print(ticker)\n",
    "\n",
    "startyear=2012\n",
    "startmonth=1\n",
    "startday=1\n",
    "\n",
    "start=dt.datetime(startyear,startmonth,startday)\n",
    "\n",
    "end=dt.datetime.now()\n",
    "\n",
    "stock_bbands=pdr.get_data_yahoo(ticker,start,end)"
   ]
  },
  {
   "cell_type": "code",
   "execution_count": 6,
   "id": "9d4e81ac-2dc1-43c7-9fbb-b26131da901e",
   "metadata": {},
   "outputs": [],
   "source": [
    "ma = stock_bbands['Close'].rolling(window = 10).mean()\n",
    "stdev = stock_bbands['Close'].rolling(window = 10).std()"
   ]
  },
  {
   "cell_type": "code",
   "execution_count": 7,
   "id": "1ff2ea5f-02bc-49a4-950b-884c4206c60b",
   "metadata": {},
   "outputs": [],
   "source": [
    "stock_bbands['middle_band'] = ma\n",
    "stock_bbands['upper_band'] = ma + (2*stdev)\n",
    "stock_bbands['lower_band'] = ma - (2*stdev)"
   ]
  },
  {
   "cell_type": "markdown",
   "id": "1db06b79-69c1-4c7b-a475-094dd0af8499",
   "metadata": {},
   "source": [
    "## Relative Strength Index (RSI)"
   ]
  },
  {
   "cell_type": "code",
   "execution_count": 8,
   "id": "9c7d7ee7-32fc-444a-9f08-e2430e8c91fd",
   "metadata": {},
   "outputs": [
    {
     "name": "stdout",
     "output_type": "stream",
     "text": [
      "RELIANCE.NS\n",
      "[*********************100%***********************]  1 of 1 completed\n"
     ]
    }
   ],
   "source": [
    "#ticker = input(\"Enter Stock Ticker : \")\n",
    "print(ticker)\n",
    "\n",
    "startyear=2012\n",
    "startmonth=1\n",
    "startday=1\n",
    "\n",
    "start=dt.datetime(startyear,startmonth,startday)\n",
    "\n",
    "end=dt.datetime.now()\n",
    "\n",
    "stock_rsi=pdr.get_data_yahoo(ticker,start,end)"
   ]
  },
  {
   "cell_type": "code",
   "execution_count": 9,
   "id": "010ed893-a4bc-4ef4-b678-6bbf7b74f3e4",
   "metadata": {},
   "outputs": [],
   "source": [
    "stock_rsi['upper_closes'] = stock_rsi['Close'].diff().clip(lower=0)\n",
    "stock_rsi['lower_closes'] = (-1)*stock_rsi['Close'].diff().clip(upper=0)"
   ]
  },
  {
   "cell_type": "code",
   "execution_count": 10,
   "id": "88c65070-c5c4-48c3-b453-a1fd1ce74395",
   "metadata": {},
   "outputs": [],
   "source": [
    "# Calculating for 14-day RSI\n",
    "\n",
    "stock_rsi['ma_upper_closes'] = stock_rsi['upper_closes'].ewm(com = 13, adjust = True, min_periods = 14).mean()\n",
    "stock_rsi['ma_lower_closes'] = stock_rsi['lower_closes'].ewm(com = 13, adjust = True, min_periods = 14).mean()"
   ]
  },
  {
   "cell_type": "code",
   "execution_count": 11,
   "id": "2e613a95-a3ea-456a-a8ec-b7130a8a4ec0",
   "metadata": {},
   "outputs": [],
   "source": [
    "stock_rsi['strength'] = stock_rsi['ma_upper_closes']/stock_rsi['ma_lower_closes']\n",
    "stock_rsi['RSI'] = 100 - (100/(1+stock_rsi['strength']))"
   ]
  },
  {
   "cell_type": "markdown",
   "id": "7ad953ff-d0a7-4bb8-bd4f-e46effa66459",
   "metadata": {},
   "source": [
    "## Moving Average Convergence Divergence (MACD)"
   ]
  },
  {
   "cell_type": "code",
   "execution_count": 12,
   "id": "90bb2a05-dd38-4800-9887-1fe21c24651e",
   "metadata": {},
   "outputs": [
    {
     "name": "stdout",
     "output_type": "stream",
     "text": [
      "RELIANCE.NS\n",
      "[*********************100%***********************]  1 of 1 completed\n"
     ]
    }
   ],
   "source": [
    "#ticker = input(\"Enter Stock Ticker : \")\n",
    "print(ticker)\n",
    "\n",
    "startyear=2012\n",
    "startmonth=1\n",
    "startday=1\n",
    "\n",
    "start=dt.datetime(startyear,startmonth,startday)\n",
    "\n",
    "end=dt.datetime.now()\n",
    "\n",
    "stock_macd=pdr.get_data_yahoo(ticker,start,end)"
   ]
  },
  {
   "cell_type": "code",
   "execution_count": 13,
   "id": "101f7c61-dc26-491d-8a63-04c354cbefaf",
   "metadata": {},
   "outputs": [],
   "source": [
    "stock_macd['ema_12'] = stock_macd['Close'].ewm(span=12,min_periods = 11).mean()\n",
    "stock_macd['ema_26'] = stock_macd['Close'].ewm(span=26,min_periods = 25).mean()"
   ]
  },
  {
   "cell_type": "code",
   "execution_count": 14,
   "id": "8c7bac52-dee8-415c-a080-c37455175e79",
   "metadata": {},
   "outputs": [],
   "source": [
    "stock_macd['MACD'] = stock_macd['ema_12'] - stock_macd['ema_26']\n",
    "stock_macd['Signal'] = stock_macd['MACD'].ewm(span=9, adjust = False).mean()"
   ]
  },
  {
   "cell_type": "markdown",
   "id": "e61153f8-200b-447a-a8fb-9f4510ed5df8",
   "metadata": {},
   "source": [
    "## Supertrend"
   ]
  },
  {
   "cell_type": "markdown",
   "id": "07c14c95-a629-4ddb-8120-c6991faccd56",
   "metadata": {},
   "source": [
    "https://stackoverflow.com/questions/44935269/supertrend-code-using-pandas-python"
   ]
  },
  {
   "cell_type": "code",
   "execution_count": 15,
   "id": "dd8ff4a2-6424-4250-8d40-3bc7ca8e2d5e",
   "metadata": {},
   "outputs": [
    {
     "name": "stdout",
     "output_type": "stream",
     "text": [
      "RELIANCE.NS\n",
      "[*********************100%***********************]  1 of 1 completed\n"
     ]
    }
   ],
   "source": [
    "#ticker = input(\"Enter Stock Ticker : \")\n",
    "print(ticker)\n",
    "\n",
    "startyear=2012\n",
    "startmonth=1\n",
    "startday=1\n",
    "\n",
    "start=dt.datetime(startyear,startmonth,startday)\n",
    "\n",
    "end=dt.datetime.now()\n",
    "\n",
    "stock_st=pdr.get_data_yahoo(ticker,start,end)"
   ]
  },
  {
   "cell_type": "code",
   "execution_count": 16,
   "id": "f5b46934-6416-45e1-a24a-1e7fc7ead930",
   "metadata": {},
   "outputs": [],
   "source": [
    "stock_st = stock_st.reset_index()"
   ]
  },
  {
   "cell_type": "code",
   "execution_count": 17,
   "id": "d857bd43-f5bf-4e1c-adb0-5468c7bfbd34",
   "metadata": {},
   "outputs": [],
   "source": [
    "true_range_list = []\n",
    "\n",
    "for i in stock_st.index:\n",
    "    a,b,c = (stock_st['High'][i] - stock_st['Low'][i]),(abs(stock_st['High'][i]-stock_st['Close'].shift(1)[i])),(abs(stock_st['Low'][i]-stock_st['Close'].shift(1)[i]))\n",
    "    true_range = max(a,b,c)\n",
    "    true_range_list.append(true_range)"
   ]
  },
  {
   "cell_type": "code",
   "execution_count": 18,
   "id": "061986f7-bbd3-4e0d-babc-4c8b0528953d",
   "metadata": {},
   "outputs": [],
   "source": [
    "stock_st['true_range'] = true_range_list\n",
    "\n",
    "# Average/Smoothed True Range\n",
    "stock_st['ATR'] = stock_st['true_range'].rolling(14).mean()"
   ]
  },
  {
   "cell_type": "code",
   "execution_count": 19,
   "id": "56901a68-fb15-4715-9b45-040e3ab5b1f8",
   "metadata": {},
   "outputs": [],
   "source": [
    "stock_st['basic_upper_band'] = round(((stock_st['High'] + stock_st['Low']) / 2) + (2 * stock_st['ATR']),2)\n",
    "stock_st['basic_lower_band'] = round(((stock_st['High'] + stock_st['Low']) / 2) - (2 * stock_st['ATR']),2)"
   ]
  },
  {
   "cell_type": "code",
   "execution_count": 20,
   "id": "c1c15f3e-e9da-4e0c-9929-35c352bd0f6a",
   "metadata": {},
   "outputs": [],
   "source": [
    "\n",
    "# FINAL UPPERBAND = IF( (Current BASICUPPERBAND < Previous FINAL UPPERBAND) or (Previous Close > Previous FINAL UPPERBAND))\n",
    "#                     THEN (Current BASIC UPPERBAND) ELSE Previous FINALUPPERBAND)\n",
    "\n",
    "\n",
    "for i in stock_st.index:\n",
    "    if i==0:\n",
    "        stock_st.loc[i,'final_upper_band']=0.00\n",
    "    else:\n",
    "        if (stock_st.loc[i,'basic_upper_band']<stock_st.loc[i-1,'final_upper_band'])|(stock_st.loc[i-1,\"Close\"]>stock_st.loc[i-1,'final_upper_band']):\n",
    "            stock_st.loc[i,'final_upper_band']=stock_st.loc[i,'basic_upper_band']\n",
    "        else:\n",
    "            stock_st.loc[i,'final_upper_band']=stock_st.loc[i-1,'final_upper_band']"
   ]
  },
  {
   "cell_type": "code",
   "execution_count": 21,
   "id": "e05c864b-06c7-41a4-bba2-c53ea46fe7bf",
   "metadata": {},
   "outputs": [],
   "source": [
    "\n",
    "# FINAL LOWERBAND = IF( (Current BASIC LOWERBAND > Previous FINAL LOWERBAND) or (Previous Close < Previous FINAL LOWERBAND)) \n",
    "#                     THEN (Current BASIC LOWERBAND) ELSE Previous FINAL LOWERBAND)\n",
    "\n",
    "for i in stock_st.index:\n",
    "    if i==0:\n",
    "        stock_st.loc[i,'final_lower_band']=0.00\n",
    "    else:\n",
    "        if (stock_st.loc[i,'basic_lower_band']>stock_st.loc[i-1,'final_lower_band'])|(stock_st.loc[i-1,\"Close\"]<stock_st.loc[i-1,'final_lower_band']):\n",
    "            stock_st.loc[i,'final_lower_band']=stock_st.loc[i,'basic_lower_band']\n",
    "        else:\n",
    "            stock_st.loc[i,'final_lower_band']=stock_st.loc[i-1,'final_lower_band']"
   ]
  },
  {
   "cell_type": "code",
   "execution_count": 22,
   "id": "9392f37d-d9d0-4839-a845-f94773715b55",
   "metadata": {},
   "outputs": [],
   "source": [
    "\n",
    "# SUPERTREND = IF((Previous SUPERTREND = Previous FINAL UPPERBAND) and (Current Close <= Current FINAL UPPERBAND)) THEN\n",
    "#                 Current FINAL UPPERBAND\n",
    "#             ELSE\n",
    "#                 IF((Previous SUPERTREND = Previous FINAL UPPERBAND) and (Current Close > Current FINAL UPPERBAND)) THEN\n",
    "#                     Current FINAL LOWERBAND\n",
    "#                 ELSE\n",
    "#                     IF((Previous SUPERTREND = Previous FINAL LOWERBAND) and (Current Close >= Current FINAL LOWERBAND)) THEN\n",
    "#                         Current FINAL LOWERBAND\n",
    "#                     ELSE\n",
    "#                         IF((Previous SUPERTREND = Previous FINAL LOWERBAND) and (Current Close < Current FINAL LOWERBAND)) THEN\n",
    "#                             Current FINAL UPPERBAND\n",
    "\n",
    "\n",
    "for i in stock_st.index:\n",
    "    if i==0:\n",
    "        stock_st.loc[i,\"ST\"]=0.00\n",
    "    elif (stock_st.loc[i-1,\"ST\"]==stock_st.loc[i-1,'final_upper_band']) & (stock_st.loc[i,\"Close\"]<=stock_st.loc[i,'final_upper_band']):\n",
    "        stock_st.loc[i,\"ST\"]=stock_st.loc[i,'final_upper_band']\n",
    "    elif (stock_st.loc[i-1,\"ST\"]==stock_st.loc[i-1,'final_upper_band'])&(stock_st.loc[i,\"Close\"]>stock_st.loc[i,'final_upper_band']):\n",
    "        stock_st.loc[i,\"ST\"]=stock_st.loc[i,'final_lower_band']\n",
    "    elif (stock_st.loc[i-1,\"ST\"]==stock_st.loc[i-1,'final_lower_band'])&(stock_st.loc[i,\"Close\"]>=stock_st.loc[i,'final_lower_band']):\n",
    "        stock_st.loc[i,\"ST\"]=stock_st.loc[i,'final_lower_band']\n",
    "    elif (stock_st.loc[i-1,\"ST\"]==stock_st.loc[i-1,'final_lower_band'])&(stock_st.loc[i,\"Close\"]<stock_st.loc[i,'final_lower_band']):\n",
    "        stock_st.loc[i,\"ST\"]=stock_st.loc[i,'final_upper_band']"
   ]
  },
  {
   "cell_type": "code",
   "execution_count": 23,
   "id": "e33a681d-f4bc-4d4e-b438-9ed28d57bb1d",
   "metadata": {},
   "outputs": [],
   "source": [
    "# Buy Sell Indicator\n",
    "for i, row in stock_st.iterrows():\n",
    "    if i==0:\n",
    "        stock_st[\"ST_BUY_SELL\"]=\"NA\"\n",
    "    elif (stock_st.loc[i,\"ST\"]<stock_st.loc[i,\"Close\"]) :\n",
    "        stock_st.loc[i,\"ST_BUY_SELL\"]=\"BUY\"\n",
    "    else:\n",
    "        stock_st.loc[i,\"ST_BUY_SELL\"]=\"SELL\""
   ]
  },
  {
   "cell_type": "code",
   "execution_count": 24,
   "id": "89888d0a-2ca3-402d-81f9-cbdc305f9a15",
   "metadata": {},
   "outputs": [
    {
     "data": {
      "text/plain": [
       "1"
      ]
     },
     "execution_count": 24,
     "metadata": {},
     "output_type": "execute_result"
    }
   ],
   "source": [
    "stock_st['final_upper_band'].count()"
   ]
  }
 ],
 "metadata": {
  "kernelspec": {
   "display_name": "Python 3 (ipykernel)",
   "language": "python",
   "name": "python3"
  },
  "language_info": {
   "codemirror_mode": {
    "name": "ipython",
    "version": 3
   },
   "file_extension": ".py",
   "mimetype": "text/x-python",
   "name": "python",
   "nbconvert_exporter": "python",
   "pygments_lexer": "ipython3",
   "version": "3.8.8"
  }
 },
 "nbformat": 4,
 "nbformat_minor": 5
}
