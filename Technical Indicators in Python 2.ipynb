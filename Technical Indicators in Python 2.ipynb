{
 "cells": [
  {
   "cell_type": "markdown",
   "id": "fdc4fd0b-a5ea-48ac-9a8d-bdbc46839aec",
   "metadata": {},
   "source": [
    "This notebook calculates various technical indicators only using pandas and without using any technical analysis/indicator library.\n",
    "\n",
    "In this notebook we calculate \n",
    " - Average Directional Index (ADX)\n",
    " - Stochastic Oscillator\n",
    " - Chandelier"
   ]
  },
  {
   "cell_type": "code",
   "execution_count": 2,
   "id": "20aec617-5303-43f9-b117-01bd23a2b117",
   "metadata": {},
   "outputs": [],
   "source": [
    "import pandas as pd\n",
    "import numpy as np\n",
    "import yfinance as yf\n",
    "\n",
    "import datetime as dt\n",
    "from pandas_datareader import data as pdr\n",
    "yf.pdr_override()\n",
    "\n",
    "pd.set_option('display.max_rows',None)"
   ]
  },
  {
   "cell_type": "code",
   "execution_count": 3,
   "id": "0fce6bf2-6f2e-4a4a-b95f-72cfc520bad0",
   "metadata": {},
   "outputs": [
    {
     "name": "stdin",
     "output_type": "stream",
     "text": [
      "Enter Stock Ticker :  AAPL\n"
     ]
    },
    {
     "name": "stdout",
     "output_type": "stream",
     "text": [
      "AAPL\n",
      "[*********************100%***********************]  1 of 1 completed\n"
     ]
    }
   ],
   "source": [
    "ticker = input(\"Enter Stock Ticker : \")\n",
    "print(ticker)\n",
    "\n",
    "startyear=2012\n",
    "startmonth=1\n",
    "startday=1\n",
    "\n",
    "start=dt.datetime(startyear,startmonth,startday)\n",
    "\n",
    "end=dt.datetime.now()\n",
    "\n",
    "stock_data=pdr.get_data_yahoo(ticker,start,end)"
   ]
  },
  {
   "cell_type": "markdown",
   "id": "19c1ec22-29f7-499d-84db-14fb84278c42",
   "metadata": {},
   "source": [
    "## Average Directional Index (ADX)"
   ]
  },
  {
   "cell_type": "markdown",
   "id": "47715ebb-812c-4b8a-8002-e64ef63fde6b",
   "metadata": {},
   "source": [
    "### Detailed Calculation"
   ]
  },
  {
   "cell_type": "code",
   "execution_count": 4,
   "id": "5bd06f59-516c-44b1-9dc1-aa8d629a8553",
   "metadata": {},
   "outputs": [],
   "source": [
    "true_range_list = []\n",
    "plus_dm_list = []\n",
    "minus_dm_list = []\n",
    "\n",
    "for i in stock_data.index:\n",
    "    a,b,c = (abs(stock_data['High'][i] - stock_data['Low'][i])),(abs(stock_data['High'][i]-stock_data['Close'].shift(1)[i])),(abs(stock_data['Low'][i]-stock_data['Close'].shift(1)[i]))\n",
    "    true_range = max(a,b,c)\n",
    "    true_range_list.append(true_range)\n",
    "    \n",
    "    if ((stock_data['High'][i] - stock_data['High'].shift(1)[i])>(stock_data['Low'].shift(1)[i] - stock_data['Low'][i])):\n",
    "        plus_dm = stock_data['High'][i] - stock_data['High'].shift(1)[i]\n",
    "    else:\n",
    "        plus_dm = 0\n",
    "    plus_dm_list.append(plus_dm)     \n",
    "        \n",
    "    if ((stock_data['Low'].shift(1)[i] - stock_data['Low'][i])>(stock_data['High'][i] - stock_data['High'].shift(1)[i])):\n",
    "        minus_dm = stock_data['Low'].shift(1)[i] - stock_data['Low'][i]        \n",
    "    else:\n",
    "        minus_dm = 0\n",
    "    minus_dm_list.append(minus_dm)    "
   ]
  },
  {
   "cell_type": "code",
   "execution_count": 5,
   "id": "c80949c8-6090-4560-b6f7-6b9ffb7a2c4b",
   "metadata": {},
   "outputs": [],
   "source": [
    "stock_data['true_range'] = true_range_list\n",
    "stock_data['Plus_DM'] = plus_dm_list\n",
    "stock_data['Minus_DM'] = minus_dm_list"
   ]
  },
  {
   "cell_type": "code",
   "execution_count": 6,
   "id": "a4595d59-d7fb-44cf-b15c-880e8b5e9f76",
   "metadata": {},
   "outputs": [],
   "source": [
    "stock_data['rolling_sum_Plus_DM'] = stock_data['Plus_DM'].rolling(14).sum()\n",
    "stock_data['Smoothed_Plus_DM'] = (stock_data['rolling_sum_Plus_DM'] - (stock_data['rolling_sum_Plus_DM']/14)) + stock_data['rolling_sum_Plus_DM']"
   ]
  },
  {
   "cell_type": "code",
   "execution_count": 7,
   "id": "2754aa33-b92b-4c70-8363-9d812b36aae8",
   "metadata": {},
   "outputs": [],
   "source": [
    "stock_data['rolling_sum_Plus_DM'] = stock_data['Plus_DM'].rolling(14).sum()\n",
    "stock_data['Smoothed_Plus_DM'] = (stock_data['rolling_sum_Plus_DM'] - (stock_data['rolling_sum_Plus_DM']/14)) + stock_data['rolling_sum_Plus_DM']"
   ]
  },
  {
   "cell_type": "code",
   "execution_count": 8,
   "id": "9129ba8f-7b26-4017-9ba1-1f91342a2f39",
   "metadata": {},
   "outputs": [],
   "source": [
    "stock_data['rolling_sum_Minus_DM'] = stock_data['Minus_DM'].rolling(14).sum()\n",
    "stock_data['Smoothed_Minus_DM'] = (stock_data['rolling_sum_Minus_DM'] - (stock_data['rolling_sum_Minus_DM']/14)) + stock_data['rolling_sum_Minus_DM']"
   ]
  },
  {
   "cell_type": "code",
   "execution_count": 9,
   "id": "350affa4-13df-40c1-bb04-91de8a0499fb",
   "metadata": {},
   "outputs": [],
   "source": [
    "stock_data['rolling_sum_True_Range'] = stock_data['true_range'].rolling(14).sum()\n",
    "stock_data['Smoothed_True_Range'] = (stock_data['rolling_sum_True_Range'] - (stock_data['rolling_sum_True_Range']/14)) + stock_data['rolling_sum_True_Range']"
   ]
  },
  {
   "cell_type": "code",
   "execution_count": 10,
   "id": "9b97b6fe-87dc-4602-adfb-8cfd68c17a0f",
   "metadata": {},
   "outputs": [],
   "source": [
    "stock_data['Plus_DI'] = (stock_data['Smoothed_Plus_DM']/stock_data['Smoothed_True_Range'])*100\n",
    "stock_data['Minus_DI'] = (stock_data['Smoothed_Minus_DM']/stock_data['Smoothed_True_Range'])*100"
   ]
  },
  {
   "cell_type": "code",
   "execution_count": 11,
   "id": "1c1448ed-1a04-483b-81ae-cf23643ff6e1",
   "metadata": {},
   "outputs": [],
   "source": [
    "stock_data['DX'] = ((stock_data['Plus_DI'] - stock_data['Minus_DI'])/(stock_data['Plus_DI'] + stock_data['Minus_DI']))*100"
   ]
  },
  {
   "cell_type": "code",
   "execution_count": 12,
   "id": "3ce50b05-eace-4757-b914-48c204d70c04",
   "metadata": {},
   "outputs": [],
   "source": [
    "stock_data['ADX'] = stock_data['DX'].rolling(14).mean()"
   ]
  },
  {
   "cell_type": "code",
   "execution_count": 13,
   "id": "ae24e3fc-b009-44f5-a959-91c4ad36e97e",
   "metadata": {},
   "outputs": [
    {
     "data": {
      "text/plain": [
       "count    2690.000000\n",
       "mean        8.077005\n",
       "std        36.988004\n",
       "min       -76.705896\n",
       "25%       -22.504306\n",
       "50%        10.147215\n",
       "75%        38.078299\n",
       "max        99.857780\n",
       "Name: ADX, dtype: float64"
      ]
     },
     "execution_count": 13,
     "metadata": {},
     "output_type": "execute_result"
    }
   ],
   "source": [
    "stock_data['ADX'].describe()"
   ]
  },
  {
   "cell_type": "markdown",
   "id": "2f5682b0-ba16-462a-92db-f76026eadf8e",
   "metadata": {},
   "source": [
    "## Stochastic Oscillator"
   ]
  },
  {
   "cell_type": "code",
   "execution_count": 14,
   "id": "f6acae71-73c5-4935-9671-7cbdb907fbd0",
   "metadata": {},
   "outputs": [
    {
     "name": "stdout",
     "output_type": "stream",
     "text": [
      "AAPL\n",
      "[*********************100%***********************]  1 of 1 completed\n"
     ]
    }
   ],
   "source": [
    "#ticker = input(\"Enter Stock Ticker : \")\n",
    "print(ticker)\n",
    "\n",
    "startyear=2012\n",
    "startmonth=1\n",
    "startday=1\n",
    "\n",
    "start=dt.datetime(startyear,startmonth,startday)\n",
    "\n",
    "end=dt.datetime.now()\n",
    "\n",
    "data_stoch=pdr.get_data_yahoo(ticker,start,end)"
   ]
  },
  {
   "cell_type": "code",
   "execution_count": 15,
   "id": "4cac3f4b-e8ad-4028-b2bc-15fca4c1f31e",
   "metadata": {},
   "outputs": [],
   "source": [
    "data_stoch['L_5'] = data_stoch['Low'].rolling(5).min()\n",
    "data_stoch['H_5'] = data_stoch['High'].rolling(5).max()"
   ]
  },
  {
   "cell_type": "code",
   "execution_count": 16,
   "id": "c1c09858-1032-404a-97c1-4b0eeb08ea80",
   "metadata": {},
   "outputs": [],
   "source": [
    "data_stoch['Fast_%K'] = ((data_stoch['Close'] - data_stoch['L_5'])/(data_stoch['H_5'] - data_stoch['L_5']))*100"
   ]
  },
  {
   "cell_type": "code",
   "execution_count": 17,
   "id": "8d979071-dd62-4694-b60d-dbf41e412b6a",
   "metadata": {},
   "outputs": [],
   "source": [
    "# Fast_%D or Slow_%K\n",
    "data_stoch['Slow_%K'] = data_stoch['Fast_%K'].rolling(3).mean()"
   ]
  },
  {
   "cell_type": "code",
   "execution_count": 18,
   "id": "1d520b31-4004-4f17-b5db-bac22638414a",
   "metadata": {},
   "outputs": [
    {
     "data": {
      "text/html": [
       "<div>\n",
       "<style scoped>\n",
       "    .dataframe tbody tr th:only-of-type {\n",
       "        vertical-align: middle;\n",
       "    }\n",
       "\n",
       "    .dataframe tbody tr th {\n",
       "        vertical-align: top;\n",
       "    }\n",
       "\n",
       "    .dataframe thead th {\n",
       "        text-align: right;\n",
       "    }\n",
       "</style>\n",
       "<table border=\"1\" class=\"dataframe\">\n",
       "  <thead>\n",
       "    <tr style=\"text-align: right;\">\n",
       "      <th></th>\n",
       "      <th>Open</th>\n",
       "      <th>High</th>\n",
       "      <th>Low</th>\n",
       "      <th>Close</th>\n",
       "      <th>Adj Close</th>\n",
       "      <th>Volume</th>\n",
       "      <th>L_5</th>\n",
       "      <th>H_5</th>\n",
       "      <th>Fast_%K</th>\n",
       "      <th>Slow_%K</th>\n",
       "    </tr>\n",
       "    <tr>\n",
       "      <th>Date</th>\n",
       "      <th></th>\n",
       "      <th></th>\n",
       "      <th></th>\n",
       "      <th></th>\n",
       "      <th></th>\n",
       "      <th></th>\n",
       "      <th></th>\n",
       "      <th></th>\n",
       "      <th></th>\n",
       "      <th></th>\n",
       "    </tr>\n",
       "  </thead>\n",
       "  <tbody>\n",
       "    <tr>\n",
       "      <th>2012-01-03</th>\n",
       "      <td>14.621429</td>\n",
       "      <td>14.732143</td>\n",
       "      <td>14.607143</td>\n",
       "      <td>14.686786</td>\n",
       "      <td>12.540046</td>\n",
       "      <td>302220800</td>\n",
       "      <td>NaN</td>\n",
       "      <td>NaN</td>\n",
       "      <td>NaN</td>\n",
       "      <td>NaN</td>\n",
       "    </tr>\n",
       "    <tr>\n",
       "      <th>2012-01-04</th>\n",
       "      <td>14.642857</td>\n",
       "      <td>14.810000</td>\n",
       "      <td>14.617143</td>\n",
       "      <td>14.765714</td>\n",
       "      <td>12.607435</td>\n",
       "      <td>260022000</td>\n",
       "      <td>NaN</td>\n",
       "      <td>NaN</td>\n",
       "      <td>NaN</td>\n",
       "      <td>NaN</td>\n",
       "    </tr>\n",
       "    <tr>\n",
       "      <th>2012-01-05</th>\n",
       "      <td>14.819643</td>\n",
       "      <td>14.948214</td>\n",
       "      <td>14.738214</td>\n",
       "      <td>14.929643</td>\n",
       "      <td>12.747406</td>\n",
       "      <td>271269600</td>\n",
       "      <td>NaN</td>\n",
       "      <td>NaN</td>\n",
       "      <td>NaN</td>\n",
       "      <td>NaN</td>\n",
       "    </tr>\n",
       "    <tr>\n",
       "      <th>2012-01-06</th>\n",
       "      <td>14.991786</td>\n",
       "      <td>15.098214</td>\n",
       "      <td>14.972143</td>\n",
       "      <td>15.085714</td>\n",
       "      <td>12.880662</td>\n",
       "      <td>318292800</td>\n",
       "      <td>NaN</td>\n",
       "      <td>NaN</td>\n",
       "      <td>NaN</td>\n",
       "      <td>NaN</td>\n",
       "    </tr>\n",
       "    <tr>\n",
       "      <th>2012-01-09</th>\n",
       "      <td>15.196429</td>\n",
       "      <td>15.276786</td>\n",
       "      <td>15.048214</td>\n",
       "      <td>15.061786</td>\n",
       "      <td>12.860231</td>\n",
       "      <td>394024400</td>\n",
       "      <td>14.607143</td>\n",
       "      <td>15.276786</td>\n",
       "      <td>67.893291</td>\n",
       "      <td>NaN</td>\n",
       "    </tr>\n",
       "    <tr>\n",
       "      <th>2012-01-10</th>\n",
       "      <td>15.211071</td>\n",
       "      <td>15.214286</td>\n",
       "      <td>15.053571</td>\n",
       "      <td>15.115714</td>\n",
       "      <td>12.906280</td>\n",
       "      <td>258196400</td>\n",
       "      <td>14.617143</td>\n",
       "      <td>15.276786</td>\n",
       "      <td>75.581984</td>\n",
       "      <td>NaN</td>\n",
       "    </tr>\n",
       "    <tr>\n",
       "      <th>2012-01-11</th>\n",
       "      <td>15.095714</td>\n",
       "      <td>15.101786</td>\n",
       "      <td>14.975357</td>\n",
       "      <td>15.091071</td>\n",
       "      <td>12.885240</td>\n",
       "      <td>215084800</td>\n",
       "      <td>14.738214</td>\n",
       "      <td>15.276786</td>\n",
       "      <td>65.517217</td>\n",
       "      <td>69.664164</td>\n",
       "    </tr>\n",
       "    <tr>\n",
       "      <th>2012-01-12</th>\n",
       "      <td>15.081429</td>\n",
       "      <td>15.103571</td>\n",
       "      <td>14.955357</td>\n",
       "      <td>15.049643</td>\n",
       "      <td>12.849862</td>\n",
       "      <td>212587200</td>\n",
       "      <td>14.955357</td>\n",
       "      <td>15.276786</td>\n",
       "      <td>29.333349</td>\n",
       "      <td>56.810850</td>\n",
       "    </tr>\n",
       "    <tr>\n",
       "      <th>2012-01-13</th>\n",
       "      <td>14.989286</td>\n",
       "      <td>15.016071</td>\n",
       "      <td>14.952143</td>\n",
       "      <td>14.993214</td>\n",
       "      <td>12.801682</td>\n",
       "      <td>226021600</td>\n",
       "      <td>14.952143</td>\n",
       "      <td>15.276786</td>\n",
       "      <td>12.651103</td>\n",
       "      <td>35.833890</td>\n",
       "    </tr>\n",
       "    <tr>\n",
       "      <th>2012-01-17</th>\n",
       "      <td>15.150000</td>\n",
       "      <td>15.213929</td>\n",
       "      <td>15.105714</td>\n",
       "      <td>15.167857</td>\n",
       "      <td>12.950798</td>\n",
       "      <td>242897200</td>\n",
       "      <td>14.952143</td>\n",
       "      <td>15.214286</td>\n",
       "      <td>82.288806</td>\n",
       "      <td>41.424419</td>\n",
       "    </tr>\n",
       "  </tbody>\n",
       "</table>\n",
       "</div>"
      ],
      "text/plain": [
       "                 Open       High        Low      Close  Adj Close     Volume  \\\n",
       "Date                                                                           \n",
       "2012-01-03  14.621429  14.732143  14.607143  14.686786  12.540046  302220800   \n",
       "2012-01-04  14.642857  14.810000  14.617143  14.765714  12.607435  260022000   \n",
       "2012-01-05  14.819643  14.948214  14.738214  14.929643  12.747406  271269600   \n",
       "2012-01-06  14.991786  15.098214  14.972143  15.085714  12.880662  318292800   \n",
       "2012-01-09  15.196429  15.276786  15.048214  15.061786  12.860231  394024400   \n",
       "2012-01-10  15.211071  15.214286  15.053571  15.115714  12.906280  258196400   \n",
       "2012-01-11  15.095714  15.101786  14.975357  15.091071  12.885240  215084800   \n",
       "2012-01-12  15.081429  15.103571  14.955357  15.049643  12.849862  212587200   \n",
       "2012-01-13  14.989286  15.016071  14.952143  14.993214  12.801682  226021600   \n",
       "2012-01-17  15.150000  15.213929  15.105714  15.167857  12.950798  242897200   \n",
       "\n",
       "                  L_5        H_5    Fast_%K    Slow_%K  \n",
       "Date                                                    \n",
       "2012-01-03        NaN        NaN        NaN        NaN  \n",
       "2012-01-04        NaN        NaN        NaN        NaN  \n",
       "2012-01-05        NaN        NaN        NaN        NaN  \n",
       "2012-01-06        NaN        NaN        NaN        NaN  \n",
       "2012-01-09  14.607143  15.276786  67.893291        NaN  \n",
       "2012-01-10  14.617143  15.276786  75.581984        NaN  \n",
       "2012-01-11  14.738214  15.276786  65.517217  69.664164  \n",
       "2012-01-12  14.955357  15.276786  29.333349  56.810850  \n",
       "2012-01-13  14.952143  15.276786  12.651103  35.833890  \n",
       "2012-01-17  14.952143  15.214286  82.288806  41.424419  "
      ]
     },
     "execution_count": 18,
     "metadata": {},
     "output_type": "execute_result"
    }
   ],
   "source": [
    "data_stoch.head(10)"
   ]
  },
  {
   "cell_type": "markdown",
   "id": "933c5cbb-8d8f-476c-968f-5f872470f9b4",
   "metadata": {},
   "source": [
    "## Chandelier"
   ]
  },
  {
   "cell_type": "code",
   "execution_count": 19,
   "id": "b3a22b3f-3bc9-4902-b846-a2f6b0d16566",
   "metadata": {},
   "outputs": [
    {
     "name": "stdout",
     "output_type": "stream",
     "text": [
      "AAPL\n",
      "[*********************100%***********************]  1 of 1 completed\n"
     ]
    }
   ],
   "source": [
    "#ticker = input(\"Enter Stock Ticker : \")\n",
    "print(ticker)\n",
    "\n",
    "startyear=2021\n",
    "startmonth=1\n",
    "startday=1\n",
    "\n",
    "start=dt.datetime(startyear,startmonth,startday)\n",
    "\n",
    "end=dt.datetime.now()\n",
    "\n",
    "data_chand=pdr.get_data_yahoo(ticker,start,end,interval='1h')"
   ]
  },
  {
   "cell_type": "code",
   "execution_count": 20,
   "id": "8744fda0-d737-4068-a125-acfe42120ada",
   "metadata": {},
   "outputs": [],
   "source": [
    "true_range_list = []\n",
    "for i in data_chand.index:\n",
    "    a,b,c = (data_chand['High'][i] - data_chand['Low'][i]),(abs(data_chand['High'][i]-data_chand['Close'].shift(1)[i])),(abs(data_chand['Low'][i]-data_chand['Close'].shift(1)[i]))\n",
    "    true_range = max(a,b,c)\n",
    "    true_range_list.append(true_range)"
   ]
  },
  {
   "cell_type": "code",
   "execution_count": 21,
   "id": "2cf1db54-a19b-4864-8be9-525f5b3b536e",
   "metadata": {},
   "outputs": [],
   "source": [
    "data_chand['true_range'] = true_range_list\n",
    "\n",
    "# Average/Smoothed True Range\n",
    "data_chand['Average_true_range'] = data_chand['true_range'].rolling(14).mean()"
   ]
  },
  {
   "cell_type": "code",
   "execution_count": 22,
   "id": "0a2652ce-c2bb-4f8f-9c4a-dfd304a1161e",
   "metadata": {},
   "outputs": [],
   "source": [
    "# Highest Rolling High in last 22 days\n",
    "data_chand['rolling_high_22'] = data_chand['High'].rolling(22).max()\n",
    "\n",
    "# Highest Rolling Low in last 22 days\n",
    "data_chand['rolling_low_22'] = data_chand['Low'].rolling(22).max()"
   ]
  },
  {
   "cell_type": "code",
   "execution_count": 23,
   "id": "edd90382-6200-4100-9e99-e1d468644e5c",
   "metadata": {},
   "outputs": [],
   "source": [
    "data_chand['Chandelier_Short'] = data_chand['rolling_high_22'] - (data_chand['Average_true_range'].shift(1))*3\n",
    "data_chand['Chandelier_Long'] = data_chand['rolling_low_22'] - (data_chand['Average_true_range'].shift(1))*3"
   ]
  }
 ],
 "metadata": {
  "kernelspec": {
   "display_name": "Python 3 (ipykernel)",
   "language": "python",
   "name": "python3"
  },
  "language_info": {
   "codemirror_mode": {
    "name": "ipython",
    "version": 3
   },
   "file_extension": ".py",
   "mimetype": "text/x-python",
   "name": "python",
   "nbconvert_exporter": "python",
   "pygments_lexer": "ipython3",
   "version": "3.8.8"
  }
 },
 "nbformat": 4,
 "nbformat_minor": 5
}
